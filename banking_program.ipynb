{
  "nbformat": 4,
  "nbformat_minor": 0,
  "metadata": {
    "colab": {
      "provenance": []
    },
    "kernelspec": {
      "name": "python3",
      "display_name": "Python 3"
    },
    "language_info": {
      "name": "python"
    }
  },
  "cells": [
    {
      "cell_type": "code",
      "execution_count": 1,
      "metadata": {
        "colab": {
          "base_uri": "https://localhost:8080/"
        },
        "id": "WtS7p3jyxe70",
        "outputId": "89e7f887-13b1-446f-dddb-cf8bd31fac37"
      },
      "outputs": [
        {
          "output_type": "stream",
          "name": "stdout",
          "text": [
            "Please enter your pin: ··········\n",
            "\n",
            "                     Enter   1 for Withdrawal\n",
            "                                2 for Deposit\n",
            "                                3 for balance check\n",
            "                                0 to exit\n",
            ">3\n",
            "Your current balance is  1000.0\n",
            "\n",
            "                     Enter   1 for Withdrawal\n",
            "                                2 for Deposit\n",
            "                                3 for balance check\n",
            "                                0 to exit\n",
            ">0\n",
            "Exiting the program.\n"
          ]
        }
      ],
      "source": [
        "import getpass\n",
        "\n",
        "class BankTransaction:\n",
        "    def __init__(self, acc_balance):\n",
        "        self.balance = acc_balance\n",
        "\n",
        "    def deposit(self, amt):\n",
        "        self.balance += amt\n",
        "        print(\"Deposited Rs\", amt, \"\\nThe new balance is \", self.balance)\n",
        "\n",
        "    def withdraw(self, amt):\n",
        "        if amt > self.balance:\n",
        "            print(\"Insufficient balance for withdrawal.\")\n",
        "        else:\n",
        "            self.balance -= amt\n",
        "            print(\"Withdrawn Rs\", amt, \"\\nThe new balance is \", self.balance)\n",
        "\n",
        "    def bal_check(self):\n",
        "        print(\"Your current balance is \", self.balance)\n",
        "\n",
        "\n",
        "def main():\n",
        "    ch = ''\n",
        "    pin = getpass.getpass(\"Please enter your pin: \")\n",
        "    if pin == '1234':\n",
        "        obj = BankTransaction(1000.0)\n",
        "        while ch != '0':\n",
        "            print(\"\"\"\n",
        "                     Enter   1 for Withdrawal\n",
        "                                2 for Deposit\n",
        "                                3 for balance check\n",
        "                                0 to exit\"\"\")\n",
        "            ch = input(\">\")\n",
        "            if ch == '1':\n",
        "                try:\n",
        "                    amount = float(input(\"Enter amount to withdraw: \"))\n",
        "                    obj.withdraw(amount)\n",
        "                except ValueError:\n",
        "                    print(\"Invalid input. Please enter a valid number.\")\n",
        "            elif ch == '2':\n",
        "                try:\n",
        "                    amount = float(input(\"Enter amount to deposit: \"))\n",
        "                    obj.deposit(amount)\n",
        "                except ValueError:\n",
        "                    print(\"Invalid input. Please enter a valid number.\")\n",
        "            elif ch == '3':\n",
        "                obj.bal_check()\n",
        "            elif ch == '0':\n",
        "                print(\"Exiting the program.\")\n",
        "            else:\n",
        "                print(\"Invalid choice. Please select a valid option.\")\n",
        "\n",
        "if __name__ == \"__main__\":\n",
        "    main()\n"
      ]
    }
  ]
}